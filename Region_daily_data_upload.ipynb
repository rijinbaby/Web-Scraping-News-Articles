{
 "cells": [
  {
   "cell_type": "markdown",
   "metadata": {},
   "source": [
    "# Region_daily_data_upload"
   ]
  },
  {
   "cell_type": "code",
   "execution_count": 2,
   "metadata": {},
   "outputs": [],
   "source": [
    "from region_sicilia import get_data_sicilia\n",
    "from region_toscana import get_data_toscana\n",
    "from region_emilia_romagna import get_data_emilia_romagna\n",
    "from region_calabria import get_data_calabria\n",
    "# from region_liguria import get_data_liguria\n",
    "from file_updation import Update_Excel\n",
    "\n",
    "import pandas as pd"
   ]
  },
  {
   "cell_type": "code",
   "execution_count": 1,
   "metadata": {},
   "outputs": [],
   "source": [
    "# set day_spec as 0 for today's data 1 for yesterday's and so on\n",
    "day_spec = 0"
   ]
  },
  {
   "cell_type": "code",
   "execution_count": 4,
   "metadata": {},
   "outputs": [],
   "source": [
    "region_list = {\"Abruzzo\":0, \"Basilicata\":0, \"Calabria\":0, \"Emilia-Romagna\":0,\n",
    "                 \"Liguria\":0, \"Molise\":0, \"Sicilia\":0, \"Toscana\":0, \"Umbria\":0}"
   ]
  },
  {
   "cell_type": "markdown",
   "metadata": {},
   "source": [
    "# Abruzzo"
   ]
  },
  {
   "cell_type": "code",
   "execution_count": 5,
   "metadata": {},
   "outputs": [],
   "source": [
    "# Automated web scrapping not implemented - Update the death numbers manually\n",
    "\n",
    "prov = {'provincia':[\"Chieti\",\"L'Aquila\",\"Pescara\",\"Teramo\"],\n",
    "          'decessi':[3,0,0,0]}\n",
    "\n",
    "abruzzo_prov = [\"Chieti\",\"L'Aquila\",\"Pescara\",\"Teramo\"]\n",
    "abruzzo_data = pd.DataFrame(prov, columns =['provincia', 'decessi'])\n",
    "abruzzo_data = abruzzo_data.sort_values(by=[\"provincia\"])\n",
    "\n",
    "region_list[\"Abruzzo\"] = abruzzo_data"
   ]
  },
  {
   "cell_type": "markdown",
   "metadata": {},
   "source": [
    "# Basilicata"
   ]
  },
  {
   "cell_type": "code",
   "execution_count": 5,
   "metadata": {},
   "outputs": [],
   "source": [
    "# Automated web scrapping not implemented - Update the death numbers manually\n",
    "\n",
    "prov = {'provincia':[\"Matera\",\"Potenza\"],\n",
    "          'decessi':[0,0]}\n",
    "\n",
    "basilicata_prov = [\"Matera\",\"Potenza\"]\n",
    "basilicata_data = pd.DataFrame(prov, columns =['provincia', 'decessi'])\n",
    "basilicata_data = basilicata_data.sort_values(by=[\"provincia\"])\n",
    "\n",
    "region_list[\"Basilicata\"] = basilicata_data"
   ]
  },
  {
   "cell_type": "markdown",
   "metadata": {},
   "source": [
    "# Calabria "
   ]
  },
  {
   "cell_type": "code",
   "execution_count": 6,
   "metadata": {},
   "outputs": [
    {
     "name": "stdout",
     "output_type": "stream",
     "text": [
      "         provincia  decessi_tot\n",
      "0        Catanzaro           33\n",
      "1          Cosenza           34\n",
      "3          Crotone            6\n",
      "2  Reggio Calabria           19\n",
      "4    Vibo Valentia            5\n",
      "https://portale.regione.calabria.it/website/portaltemplates/view/view.cfm?18016\n"
     ]
    }
   ],
   "source": [
    "calabria_data,calabria_link = get_data_calabria(day_spec)\n",
    "region_list[\"Calabria\"] = calabria_data\n",
    "print(calabria_data)\n",
    "print(calabria_link)"
   ]
  },
  {
   "cell_type": "markdown",
   "metadata": {},
   "source": [
    "# Emilia-Romagna"
   ]
  },
  {
   "cell_type": "code",
   "execution_count": 7,
   "metadata": {},
   "outputs": [
    {
     "name": "stdout",
     "output_type": "stream",
     "text": [
      "            provincia  decessi\n",
      "0             Bologna       -1\n",
      "4             Bologna        5\n",
      "7             Ferrara        0\n",
      "5        Forlì-Cesena        1\n",
      "8              Modena        0\n",
      "2               Parma        1\n",
      "1            Piacenza        2\n",
      "9             Ravenna        0\n",
      "3  Reggio nell'Emilia        2\n",
      "6              Rimini        1\n",
      "https://www.regione.emilia-romagna.it/notizie/attualita/coronavirus-aggiornamento-19-nuovi-positivi-15-asintomatici-da-screening-regionali-20-780-i-guariti-163-e-156-malati-scesi-sotto-i-3mila\n"
     ]
    }
   ],
   "source": [
    "er_data,er_link = get_data_emilia_romagna(day_spec)\n",
    "region_list[\"Emilia-Romagna\"] = er_data\n",
    "print(er_data)\n",
    "print(er_link)"
   ]
  },
  {
   "cell_type": "markdown",
   "metadata": {},
   "source": [
    "# Liguria - TEST"
   ]
  },
  {
   "cell_type": "code",
   "execution_count": 8,
   "metadata": {},
   "outputs": [],
   "source": [
    "# liguria_data = get_data_liguria(day_spec)\n",
    "# region_list[\"Liguria\"] = liguria_data\n",
    "# print(liguria_data)\n",
    "\n",
    "# Automated web scrapping not implemented - Update the death numbers manually\n",
    "\n",
    "prov = {'provincia':[\"Imperia\",\"Savona\"],\n",
    "          'decessi':[0,0]}\n",
    "\n",
    "liguria_prov = [\"Imperia\",\"Savona\"]\n",
    "liguria_data = pd.DataFrame(prov, columns =['provincia', 'decessi'])\n",
    "liguria_data = liguria_data.sort_values(by=[\"provincia\"])\n",
    "\n",
    "region_list[\"Liguria\"] = liguria_data"
   ]
  },
  {
   "cell_type": "markdown",
   "metadata": {},
   "source": [
    "# Molise"
   ]
  },
  {
   "cell_type": "code",
   "execution_count": 9,
   "metadata": {},
   "outputs": [],
   "source": [
    "# Automated web scrapping not implemented - Update the death numbers manually\n",
    "\n",
    "prov = {'provincia':[\"Campobasso\",\"Isernia\"],\n",
    "          'decessi':[0,0]}\n",
    "\n",
    "molise_prov = [\"Campobasso\",\"Isernia\"]\n",
    "molise_data = pd.DataFrame(prov, columns =['provincia', 'decessi'])\n",
    "molise_data = molise_data.sort_values(by=[\"provincia\"])\n",
    "\n",
    "region_list[\"Molise\"] = molise_data"
   ]
  },
  {
   "cell_type": "markdown",
   "metadata": {},
   "source": [
    "# Sicilia"
   ]
  },
  {
   "cell_type": "code",
   "execution_count": 10,
   "metadata": {},
   "outputs": [
    {
     "name": "stdout",
     "output_type": "stream",
     "text": [
      "       provincia  decessi_tot\n",
      "0      Agrigento            1\n",
      "1  Caltanissetta           11\n",
      "2        Catania            0\n",
      "3           Enna           29\n",
      "4        Messina           57\n",
      "5        Palermo           36\n",
      "6         Ragusa            7\n",
      "7       Siracusa           29\n",
      "8        Trapani            5\n",
      "http://pti.regione.sicilia.it/portal/page/portal/A71E18CCF90CF640E050060A010233FB\n"
     ]
    }
   ],
   "source": [
    "sicilia_data,sicilia_link = get_data_sicilia(day_spec)\n",
    "region_list[\"Sicilia\"] = sicilia_data\n",
    "print(sicilia_data)\n",
    "print(sicilia_link)\n",
    "\n",
    "# temp\n",
    "# prov = {'provincia':[\"Agrigento\", \"Caltanissetta\", \"Catania\", \"Enna\", \"Messina\", \"Palermo\", \"Ragusa\", \"Siracusa\", \"Trapani\"],\n",
    "#           'decessi_tot':[1,11,99,29,57,35,7,29,5]}\n",
    "\n",
    "# sicilia_prov = [\"Agrigento\", \"Caltanissetta\", \"Catania\", \"Enna\", \"Messina\", \"Palermo\", \"Ragusa\", \"Siracusa\", \"Trapani\"]\n",
    "# sicilia_data = pd.DataFrame(prov, columns =['provincia', 'decessi_tot'])\n",
    "# sicilia_data = sicilia_data.sort_values(by=[\"provincia\"])\n",
    "\n",
    "# region_list[\"Sicilia\"] = sicilia_data"
   ]
  },
  {
   "cell_type": "markdown",
   "metadata": {},
   "source": [
    "# Toscana - NOT WORKING"
   ]
  },
  {
   "cell_type": "code",
   "execution_count": 13,
   "metadata": {},
   "outputs": [],
   "source": [
    "# toscana_data,toscana_link = get_data_toscana(day_spec)\n",
    "# region_list[\"Toscana\"] = toscana_data\n",
    "# print(toscana_data)\n",
    "# print(toscana_link)"
   ]
  },
  {
   "cell_type": "markdown",
   "metadata": {},
   "source": [
    "# Umbria"
   ]
  },
  {
   "cell_type": "code",
   "execution_count": 11,
   "metadata": {},
   "outputs": [],
   "source": [
    "# Automated web scrapping not implemented - Update the death numbers manually\n",
    "\n",
    "prov = {'provincia':[\"Perugia\",\"Terni\"],\n",
    "          'decessi':[int(0),int(0)]}\n",
    "\n",
    "umbria_prov = [\"Perugia\",\"Terni\"]\n",
    "umbria_data = pd.DataFrame(prov, columns =['provincia', 'decessi'])\n",
    "umbria_data = umbria_data.sort_values(by=[\"provincia\"])\n",
    "\n",
    "region_list[\"Umbria\"] = umbria_data"
   ]
  },
  {
   "cell_type": "markdown",
   "metadata": {},
   "source": [
    "---"
   ]
  },
  {
   "cell_type": "code",
   "execution_count": 12,
   "metadata": {},
   "outputs": [
    {
     "data": {
      "text/plain": [
       "{'Abruzzo': 0,\n",
       " 'Basilicata':   provincia  decessi\n",
       " 0    Matera        0\n",
       " 1   Potenza        0,\n",
       " 'Calabria':          provincia  decessi_tot\n",
       " 0        Catanzaro           33\n",
       " 1          Cosenza           34\n",
       " 3          Crotone            6\n",
       " 2  Reggio Calabria           19\n",
       " 4    Vibo Valentia            5,\n",
       " 'Emilia-Romagna':             provincia  decessi\n",
       " 0             Bologna       -1\n",
       " 4             Bologna        5\n",
       " 7             Ferrara        0\n",
       " 5        Forlì-Cesena        1\n",
       " 8              Modena        0\n",
       " 2               Parma        1\n",
       " 1            Piacenza        2\n",
       " 9             Ravenna        0\n",
       " 3  Reggio nell'Emilia        2\n",
       " 6              Rimini        1,\n",
       " 'Liguria':   provincia  decessi\n",
       " 0   Imperia        0\n",
       " 1    Savona        0,\n",
       " 'Molise':     provincia  decessi\n",
       " 0  Campobasso        0\n",
       " 1     Isernia        0,\n",
       " 'Sicilia':        provincia  decessi_tot\n",
       " 0      Agrigento            1\n",
       " 1  Caltanissetta           11\n",
       " 2        Catania            0\n",
       " 3           Enna           29\n",
       " 4        Messina           57\n",
       " 5        Palermo           36\n",
       " 6         Ragusa            7\n",
       " 7       Siracusa           29\n",
       " 8        Trapani            5,\n",
       " 'Toscana': 0,\n",
       " 'Umbria':   provincia  decessi\n",
       " 0   Perugia        0\n",
       " 1     Terni        0}"
      ]
     },
     "execution_count": 12,
     "metadata": {},
     "output_type": "execute_result"
    }
   ],
   "source": [
    "region_list"
   ]
  },
  {
   "cell_type": "markdown",
   "metadata": {},
   "source": [
    "---"
   ]
  },
  {
   "cell_type": "markdown",
   "metadata": {},
   "source": [
    "---"
   ]
  },
  {
   "cell_type": "markdown",
   "metadata": {},
   "source": [
    "# Final Excel Updation"
   ]
  },
  {
   "cell_type": "code",
   "execution_count": 13,
   "metadata": {},
   "outputs": [
    {
     "name": "stdout",
     "output_type": "stream",
     "text": [
      "Matera: done\n",
      "Potenza: done\n",
      "Catanzaro: done\n",
      "Cosenza: done\n",
      "Crotone: done\n",
      "Reggio di Calabria: done\n",
      "Vibo Valentia: done\n",
      "Bologna: done\n",
      "Ferrara: done\n",
      "Forlì-Cesena: done\n",
      "Modena: done\n",
      "Parma: done\n",
      "Piacenza: done\n",
      "Ravenna: done\n",
      "Reggio nell'Emilia: done\n",
      "Rimini: done\n",
      "Imperia: done\n",
      "Savona: done\n",
      "Campobasso: done\n",
      "Isernia: done\n",
      "Agrigento: done\n",
      "Caltanissetta: done\n",
      "Catania: done\n",
      "Enna: done\n",
      "Messina: done\n",
      "Palermo: done\n",
      "Ragusa: done\n",
      "Siracusa: done\n",
      "Trapani: done\n",
      "Perugia: done\n",
      "Terni: done\n"
     ]
    }
   ],
   "source": [
    "for region, death_data in region_list.items():\n",
    "    if type(death_data) != int:\n",
    "        execute = Update_Excel(region=region)\n",
    "        execute.update_xls(death_data,day_spec)"
   ]
  },
  {
   "cell_type": "code",
   "execution_count": null,
   "metadata": {},
   "outputs": [],
   "source": []
  }
 ],
 "metadata": {
  "kernelspec": {
   "display_name": "Python 3",
   "language": "python",
   "name": "python3"
  },
  "language_info": {
   "codemirror_mode": {
    "name": "ipython",
    "version": 3
   },
   "file_extension": ".py",
   "mimetype": "text/x-python",
   "name": "python",
   "nbconvert_exporter": "python",
   "pygments_lexer": "ipython3",
   "version": "3.8.2"
  }
 },
 "nbformat": 4,
 "nbformat_minor": 4
}